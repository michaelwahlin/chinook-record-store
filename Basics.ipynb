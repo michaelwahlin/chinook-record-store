{
 "cells": [
  {
   "cell_type": "markdown",
   "metadata": {},
   "source": [
    "# Chinook record store signings\n",
    "\n",
    "This notebook represents my work on a guided project, as provided by Dataquest.io.\n",
    "\n",
    "The Chinook record store has just signed a deal with a new record label and we are tasked with selecting the first three albums that will be added to the store from a list of four.\n",
    "\n",
    "All four albums are from artists that do not have any tracks in the store at present.\n",
    "\n",
    "Artist Name | Genre\n",
    "--- | ---\n",
    "Regal | Hip_hop\n",
    "Red Tone | Punk\n",
    "Meteor and the Girls | Pop\n",
    "Slim Jim Bites | Blues\n",
    "\n",
    "The record label specializes in U.S. artists. Our first task is to find out which genres sell the best in the USA."
   ]
  },
  {
   "cell_type": "markdown",
   "metadata": {},
   "source": [
    "Here is a screenshot of the 'Chinook' database that we will be leveraging for our sample data.\n",
    "![](chinook.PNG)"
   ]
  },
  {
   "cell_type": "code",
   "execution_count": 1,
   "metadata": {
    "collapsed": true
   },
   "outputs": [],
   "source": [
    "import sqlite3\n",
    "import numpy as np\n",
    "import pandas as pd\n",
    "import matplotlib.pyplot as plt\n",
    "%matplotlib inline"
   ]
  },
  {
   "cell_type": "code",
   "execution_count": 2,
   "metadata": {
    "collapsed": true
   },
   "outputs": [],
   "source": [
    "def run_query(q):\n",
    "    with sqlite3.connect('chinook.db') as conn:\n",
    "        return pd.read_sql(q, conn)"
   ]
  },
  {
   "cell_type": "code",
   "execution_count": 3,
   "metadata": {
    "collapsed": false
   },
   "outputs": [],
   "source": [
    "def run_command(q):\n",
    "    with sqlite3.connect('chinook.db') as conn:\n",
    "        conn.isolation_level = None\n",
    "        conn.execute(q)"
   ]
  },
  {
   "cell_type": "code",
   "execution_count": 4,
   "metadata": {
    "collapsed": false
   },
   "outputs": [],
   "source": [
    "def show_tables():\n",
    "    q = \"\"\"\n",
    "    SELECT\n",
    "        name,\n",
    "        type\n",
    "    FROM sqlite_master\n",
    "    WHERE type IN (\"table\", \"view\")\n",
    "    \"\"\"\n",
    "    return run_query(q)"
   ]
  },
  {
   "cell_type": "code",
   "execution_count": 5,
   "metadata": {
    "collapsed": false
   },
   "outputs": [
    {
     "name": "stdout",
     "output_type": "stream",
     "text": [
      "                       name   type\n",
      "0                     album  table\n",
      "1                    artist  table\n",
      "2                  customer  table\n",
      "3                  employee  table\n",
      "4                     genre  table\n",
      "5                   invoice  table\n",
      "6              invoice_line  table\n",
      "7                media_type  table\n",
      "8                  playlist  table\n",
      "9            playlist_track  table\n",
      "10                    track  table\n",
      "11             country_view   view\n",
      "12  album_id_per_invoice_id   view\n"
     ]
    }
   ],
   "source": [
    "db_tables = show_tables()\n",
    "print(db_tables)"
   ]
  },
  {
   "cell_type": "code",
   "execution_count": 6,
   "metadata": {
    "collapsed": false
   },
   "outputs": [
    {
     "name": "stdout",
     "output_type": "stream",
     "text": [
      "          tracks_sold  tracks_sold_per\n",
      "name                                  \n",
      "Metal            1436        54.332198\n",
      "R&B/Soul          376        14.226258\n",
      "Blues             329        12.447976\n"
     ]
    },
    {
     "data": {
      "image/png": "[encoded data removed]",
      "text/plain": [
       "<matplotlib.figure.Figure at 0x7f779392aef0>"
      ]
     },
     "metadata": {},
     "output_type": "display_data"
    }
   ],
   "source": [
    "q = \"\"\"\n",
    "WITH genres_usa AS (\n",
    "    SELECT\n",
    "        g.name,\n",
    "        SUM(il.quantity) tracks_sold\n",
    "    FROM genre g\n",
    "    INNER JOIN track t ON t.genre_id = g.genre_id\n",
    "    INNER JOIN playlist_track pt ON t.track_id = pt.track_id\n",
    "    INNER JOIN invoice_line il on pt.track_id = il.track_id\n",
    "    INNER JOIN invoice i on il.invoice_id = i.invoice_id\n",
    "    GROUP BY g.name\n",
    "    HAVING i.billing_country = \"USA\"\n",
    "    ORDER BY COUNT(il.quantity) DESC\n",
    "),\n",
    "    track_total AS (\n",
    "    SELECT\n",
    "        SUM(tracks_sold) AS tracks_sold_sum\n",
    "    FROM genres_usa\n",
    ")\n",
    "\n",
    "SELECT\n",
    "    g.name,\n",
    "    g.tracks_sold,\n",
    "    (CAST(g.tracks_sold AS Float) / t.tracks_sold_sum) * 100 tracks_sold_per\n",
    "FROM genres_usa g, track_total t\n",
    "LIMIT 3;\n",
    "\"\"\"\n",
    "\n",
    "result = run_query(q)\n",
    "\n",
    "result.set_index(\"name\", drop=True, inplace=True)\n",
    "print(result)\n",
    "\n",
    "ax = result.iloc[:,1].plot.bar()\n",
    "ax.set_ylabel('Percentage of Tracks Sold')\n",
    "plt.show()"
   ]
  },
  {
   "cell_type": "markdown",
   "metadata": {},
   "source": [
    "## Genre Analysis\n",
    "Based on our analysis, Metal, R&B/Soul, and Blues are the most popular genres (out of eight) sold in the U.S.A. In fact, these three genres account for 80% of sales.\n",
    "\n",
    "Our current slate of artists miss the mark in terms of genre for the most part. The exception is **Slim Jim Bites**, whose genre is the Blues. We may want to pour additional advertisement money into that one particular album to cater to the popularity of Blues albums."
   ]
  },
  {
   "cell_type": "markdown",
   "metadata": {},
   "source": [
    "## Agent Analysis\n",
    "Next we have been asked to analyze the purchases of customers belonging to each employee to see which *sales support agent* is performing better or worse than the others."
   ]
  },
  {
   "cell_type": "code",
   "execution_count": 7,
   "metadata": {
    "collapsed": false
   },
   "outputs": [
    {
     "name": "stdout",
     "output_type": "stream",
     "text": [
      "                             title    total\n",
      "emp_name                                   \n",
      "Jane Peacock   Sales Support Agent  1731.51\n",
      "Margaret Park  Sales Support Agent  1584.00\n",
      "Steve Johnson  Sales Support Agent  1393.92\n"
     ]
    },
    {
     "data": {
      "image/png": "[encoded data removed]",
      "text/plain": [
       "<matplotlib.figure.Figure at 0x7f779392a908>"
      ]
     },
     "metadata": {},
     "output_type": "display_data"
    }
   ],
   "source": [
    "q = \"\"\"\n",
    "    SELECT\n",
    "        e.first_name || \" \" || e.last_name emp_name,\n",
    "        e.title,\n",
    "        SUM(i.total) total\n",
    "    FROM employee e\n",
    "    INNER JOIN customer c ON c.support_rep_id = e.employee_id\n",
    "    INNER JOIN invoice i on i.customer_id = c.customer_id\n",
    "    WHERE e.title = 'Sales Support Agent'\n",
    "    GROUP BY emp_name\n",
    "\"\"\"\n",
    "\n",
    "result = run_query(q)\n",
    "\n",
    "result.set_index(\"emp_name\", drop=True, inplace=True)\n",
    "\n",
    "print(result)\n",
    "ax = result.plot.bar()\n",
    "ax.set_ylabel('Total')\n",
    "ax.get_legend().remove()"
   ]
  },
  {
   "cell_type": "markdown",
   "metadata": {},
   "source": [
    "Overall we find that Jane Peacock manages the highest dollar total, at $1,731. For comparison, Jane manages roughly 24% more in sales than Steve Johnson.\n",
    "\n",
    "This does not necessarily mean that Jane is a more apt sales support rep than Steve. Rather, she may manage more popular artists. Given her high dollar figure, she may handle a higher workload as a sales support agent."
   ]
  },
  {
   "cell_type": "markdown",
   "metadata": {},
   "source": [
    "## Analyze Customer by Country\n",
    "We have been given guidance to use the country value from the *customers* table. In particular, we have been directed to calculate data for each country on the:\n",
    "* total number of customers\n",
    "* total value of sales\n",
    "* average value of sales per customer\n",
    "* average order value\n",
    "\n",
    "Countries with only one customer will be grouped into an 'Other' category for analysis purposes."
   ]
  },
  {
   "cell_type": "code",
   "execution_count": 8,
   "metadata": {
    "collapsed": false,
    "scrolled": false
   },
   "outputs": [
    {
     "data": {
      "text/html": [
       "<div>\n",
       "<style scoped>\n",
       "    .dataframe tbody tr th:only-of-type {\n",
       "        vertical-align: middle;\n",
       "    }\n",
       "\n",
       "    .dataframe tbody tr th {\n",
       "        vertical-align: top;\n",
       "    }\n",
       "\n",
       "    .dataframe thead th {\n",
       "        text-align: right;\n",
       "    }\n",
       "</style>\n",
       "<table border=\"1\" class=\"dataframe\">\n",
       "  <thead>\n",
       "    <tr style=\"text-align: right;\">\n",
       "      <th></th>\n",
       "      <th>country</th>\n",
       "      <th>num_cust</th>\n",
       "      <th>total_sales</th>\n",
       "      <th>avg_sales_per_customer</th>\n",
       "      <th>avg_order_value</th>\n",
       "    </tr>\n",
       "  </thead>\n",
       "  <tbody>\n",
       "    <tr>\n",
       "      <th>0</th>\n",
       "      <td>USA</td>\n",
       "      <td>13</td>\n",
       "      <td>1040.49</td>\n",
       "      <td>80.037692</td>\n",
       "      <td>7.942672</td>\n",
       "    </tr>\n",
       "    <tr>\n",
       "      <th>1</th>\n",
       "      <td>Canada</td>\n",
       "      <td>8</td>\n",
       "      <td>535.59</td>\n",
       "      <td>66.948750</td>\n",
       "      <td>7.047237</td>\n",
       "    </tr>\n",
       "    <tr>\n",
       "      <th>2</th>\n",
       "      <td>Brazil</td>\n",
       "      <td>5</td>\n",
       "      <td>427.68</td>\n",
       "      <td>85.536000</td>\n",
       "      <td>7.011148</td>\n",
       "    </tr>\n",
       "    <tr>\n",
       "      <th>3</th>\n",
       "      <td>France</td>\n",
       "      <td>5</td>\n",
       "      <td>389.07</td>\n",
       "      <td>77.814000</td>\n",
       "      <td>7.781400</td>\n",
       "    </tr>\n",
       "    <tr>\n",
       "      <th>4</th>\n",
       "      <td>Germany</td>\n",
       "      <td>4</td>\n",
       "      <td>334.62</td>\n",
       "      <td>83.655000</td>\n",
       "      <td>8.161463</td>\n",
       "    </tr>\n",
       "    <tr>\n",
       "      <th>5</th>\n",
       "      <td>Czech Republic</td>\n",
       "      <td>2</td>\n",
       "      <td>273.24</td>\n",
       "      <td>136.620000</td>\n",
       "      <td>9.108000</td>\n",
       "    </tr>\n",
       "    <tr>\n",
       "      <th>6</th>\n",
       "      <td>United Kingdom</td>\n",
       "      <td>3</td>\n",
       "      <td>245.52</td>\n",
       "      <td>81.840000</td>\n",
       "      <td>8.768571</td>\n",
       "    </tr>\n",
       "    <tr>\n",
       "      <th>7</th>\n",
       "      <td>Portugal</td>\n",
       "      <td>2</td>\n",
       "      <td>185.13</td>\n",
       "      <td>92.565000</td>\n",
       "      <td>6.383793</td>\n",
       "    </tr>\n",
       "    <tr>\n",
       "      <th>8</th>\n",
       "      <td>India</td>\n",
       "      <td>2</td>\n",
       "      <td>183.15</td>\n",
       "      <td>91.575000</td>\n",
       "      <td>8.721429</td>\n",
       "    </tr>\n",
       "    <tr>\n",
       "      <th>9</th>\n",
       "      <td>Other</td>\n",
       "      <td>15</td>\n",
       "      <td>1094.94</td>\n",
       "      <td>72.996000</td>\n",
       "      <td>7.448571</td>\n",
       "    </tr>\n",
       "  </tbody>\n",
       "</table>\n",
       "</div>"
      ],
      "text/plain": [
       "          country  num_cust  total_sales  avg_sales_per_customer  \\\n",
       "0             USA        13      1040.49               80.037692   \n",
       "1          Canada         8       535.59               66.948750   \n",
       "2          Brazil         5       427.68               85.536000   \n",
       "3          France         5       389.07               77.814000   \n",
       "4         Germany         4       334.62               83.655000   \n",
       "5  Czech Republic         2       273.24              136.620000   \n",
       "6  United Kingdom         3       245.52               81.840000   \n",
       "7        Portugal         2       185.13               92.565000   \n",
       "8           India         2       183.15               91.575000   \n",
       "9           Other        15      1094.94               72.996000   \n",
       "\n",
       "   avg_order_value  \n",
       "0         7.942672  \n",
       "1         7.047237  \n",
       "2         7.011148  \n",
       "3         7.781400  \n",
       "4         8.161463  \n",
       "5         9.108000  \n",
       "6         8.768571  \n",
       "7         6.383793  \n",
       "8         8.721429  \n",
       "9         7.448571  "
      ]
     },
     "execution_count": 8,
     "metadata": {},
     "output_type": "execute_result"
    }
   ],
   "source": [
    "v = '''\n",
    "CREATE VIEW country_view AS\n",
    "SELECT\n",
    "        CASE\n",
    "        WHEN c2.counter = 1 THEN 'Other'\n",
    "        ELSE c.country\n",
    "    END AS country,\n",
    "    c.customer_id,\n",
    "    i.invoice_id,\n",
    "    i.total\n",
    "FROM customer c\n",
    "INNER JOIN invoice i ON c.customer_id = i.customer_id\n",
    "INNER JOIN (SELECT country, count(*) counter FROM customer GROUP BY country) c2 on c2.country = c.country\n",
    ";\n",
    "'''\n",
    "run_command('DROP VIEW IF EXISTS country_view')\n",
    "run_command(v)\n",
    "\n",
    "q = '''\n",
    "SELECT\n",
    "    country,\n",
    "    COUNT(DISTINCT(customer_id)) AS num_cust,\n",
    "    SUM(total) total_sales,\n",
    "    SUM(total) / COUNT(DISTINCT(customer_id)) AS avg_sales_per_customer,\n",
    "    SUM(total) / COUNT(DISTINCT(invoice_id)) AS avg_order_value\n",
    "FROM \n",
    "    (\n",
    "    SELECT \n",
    "        cv.*,\n",
    "        CASE\n",
    "            WHEN cv.country = 'Other' THEN 1\n",
    "            ELSE 0\n",
    "        END AS sort\n",
    "    FROM country_view cv\n",
    "    )\n",
    "GROUP BY country\n",
    "ORDER BY sort, SUM(total) DESC\n",
    "'''\n",
    "\n",
    "run_query(q)"
   ]
  },
  {
   "cell_type": "code",
   "execution_count": 9,
   "metadata": {
    "collapsed": false
   },
   "outputs": [
    {
     "data": {
      "image/png": "[encoded data removed]",
      "text/plain": [
       "<matplotlib.figure.Figure at 0x7f7789b92f98>"
      ]
     },
     "metadata": {},
     "output_type": "display_data"
    }
   ],
   "source": [
    "import seaborn as sns\n",
    "import warnings\n",
    "warnings.simplefilter(action='ignore', category=FutureWarning)\n",
    "\n",
    "country_metrics = run_query(q)[:-1]\n",
    "\n",
    "bp = sns.barplot('country', 'avg_sales_per_customer', data=country_metrics)\n",
    "plt.xticks(rotation=90)\n",
    "bp.set_ylabel('Average Sales Per Customer')\n",
    "bp.set_xlabel('Country')\n",
    "plt.show()"
   ]
  },
  {
   "cell_type": "markdown",
   "metadata": {},
   "source": [
    "As we can see, average sales per customer is much higher in the Czech Republic. This data is skewed in that the Czech Republic only has two customers listed.\n",
    "\n",
    "More interesting is a comparison of our top two countries by number of customers - the United States and Canada. Average sales per customer is approximately 13 lower in Canada. This suggests that consumer demands lags behind in Canada or potentially that we have a market that could be more fully leveraged.\n",
    "\n",
    "Let us now compare the spread of total sales across the various major countries in terms of percentages."
   ]
  },
  {
   "cell_type": "code",
   "execution_count": 14,
   "metadata": {
    "collapsed": false
   },
   "outputs": [
    {
     "data": {
      "image/png": "[encoded data removed]",
      "text/plain": [
       "<matplotlib.figure.Figure at 0x7f779183a9b0>"
      ]
     },
     "metadata": {},
     "output_type": "display_data"
    }
   ],
   "source": [
    "country_metrics_top = country_metrics[:5]\n",
    "fig1, ax1 = plt.subplots()\n",
    "labels = country_metrics_top['country']\n",
    "sizes = country_metrics_top['total_sales']\n",
    "ax1.pie(sizes, labels=labels, startangle=90, autopct='%1.1f%%')\n",
    "ax1.set_title('Total Sales Distribution - Top 5 Countries')\n",
    "plt.tight_layout()\n",
    "plt.show()"
   ]
  },
  {
   "cell_type": "markdown",
   "metadata": {
    "collapsed": true
   },
   "source": [
    "For the top 5 countries in terms of total sales, we see that the total sales of the United States is at least double of the next country. \n",
    "\n",
    "On that note, let's check out the percentage of customers in those top 5 countries."
   ]
  },
  {
   "cell_type": "code",
   "execution_count": 11,
   "metadata": {
    "collapsed": false
   },
   "outputs": [
    {
     "data": {
      "text/plain": [
       "<matplotlib.text.Text at 0x7f778983ce48>"
      ]
     },
     "execution_count": 11,
     "metadata": {},
     "output_type": "execute_result"
    },
    {
     "data": {
      "image/png": "[encoded data removed]",
      "text/plain": [
       "<matplotlib.figure.Figure at 0x7f77898b64e0>"
      ]
     },
     "metadata": {},
     "output_type": "display_data"
    }
   ],
   "source": [
    "total_cust = country_metrics_top['num_cust'].sum()\n",
    "total_cust_percent = country_metrics_top['num_cust'] / total_cust\n",
    "\n",
    "sns.set_color_codes(\"pastel\")\n",
    "ax = sns.barplot(x=country_metrics_top['country'], y=total_cust_percent)\n",
    "\n",
    "ax.set_ylabel('Percentage of Customers')\n",
    "ax.set_xlabel('Country')\n",
    "ax.set_title('Percentage of Top 5 Customers')\n"
   ]
  },
  {
   "cell_type": "markdown",
   "metadata": {},
   "source": [
    "The results are not surprising.  The larger markets in terms of total sales (such as the United States) tend to have a greater number of customers.  Again, we see a potential opportunity in Canada, given its higher percentage of customers (23%) to its percentage of total sales (19.6%) within the top five countries.\n",
    "\n",
    "Finally, let us examine the distribution of average order values using a box and whisker chart."
   ]
  },
  {
   "cell_type": "code",
   "execution_count": 12,
   "metadata": {
    "collapsed": false
   },
   "outputs": [
    {
     "name": "stdout",
     "output_type": "stream",
     "text": [
      "7.942671755725189\n"
     ]
    },
    {
     "data": {
      "text/plain": [
       "<matplotlib.text.Text at 0x7f77898b6128>"
      ]
     },
     "execution_count": 12,
     "metadata": {},
     "output_type": "execute_result"
    },
    {
     "data": {
      "image/png": "[encoded data removed]",
      "text/plain": [
       "<matplotlib.figure.Figure at 0x7f77917f2320>"
      ]
     },
     "metadata": {},
     "output_type": "display_data"
    }
   ],
   "source": [
    "median_aov = country_metrics['avg_order_value'].median()\n",
    "print(median_aov)\n",
    "\n",
    "ax = sns.boxplot(country_metrics['avg_order_value'])\n",
    "ax.set_xlabel('Average Order Value')"
   ]
  },
  {
   "cell_type": "markdown",
   "metadata": {},
   "source": [
    "Viewing the boxplot we can see that average order value is fairly well-centered at 8.94, with no obvious outliers. Further research should be conducted to determine why certain countries obtained a relatively higher 'average order value'. For example, is there a correlation between 'average order value' and the relative wealth of a country?"
   ]
  },
  {
   "cell_type": "markdown",
   "metadata": {},
   "source": [
    "Overall, my recommendation for the marketing team would be to target the United States and Canada. Again, we are trying to market three new albums from artists that do not currently have any tracks in the stores right now. We should avoid markets in which we only have a weak sales presence to date.\n",
    "\n",
    "Combined, the United States and Canada represent 58% of total sales in our top five countries. We have thus already achieved a level of sales saturation and marekting presence in these two countries. In particular we may want to focus on increasing the average sales per customer in Canada."
   ]
  },
  {
   "cell_type": "markdown",
   "metadata": {},
   "source": [
    "## Analysis of Individual Tracks to Albums\n",
    "Management is considering changing their purchasing strategy to save money. They are considering whether to purchase only the most popular tracks from each album from the record companies, instead of purchasing every track from an album.\n",
    "\n",
    "We have been asked to find out what percentage of purchases are individual tracks versus whole albums, so that management can understand the effect that their decision may have on overall revenues.\n",
    "\n",
    "There are two edge cases that we will need to account for:\n",
    "* Albums that only have one or two tracks are likely to be purchased by customers as part of a collection of individual tracks.\n",
    "* Customers may decide to manually add every track from an album and then add a few other individual tracks.\n",
    "\n",
    "Since we are concerned with maximizing revenue we can safely ignore albums consisting of only a few tracks. Management has informed us to ignore the second scenario, since it is relatively unusual.\n",
    "\n",
    "We will need to determine whether each invoice has all the tracks from an album.\n",
    "We will write a query that categorizes each invoice as either an album purchase or not."
   ]
  },
  {
   "cell_type": "code",
   "execution_count": 13,
   "metadata": {
    "collapsed": false
   },
   "outputs": [
    {
     "data": {
      "text/html": [
       "<div>\n",
       "<style scoped>\n",
       "    .dataframe tbody tr th:only-of-type {\n",
       "        vertical-align: middle;\n",
       "    }\n",
       "\n",
       "    .dataframe tbody tr th {\n",
       "        vertical-align: top;\n",
       "    }\n",
       "\n",
       "    .dataframe thead th {\n",
       "        text-align: right;\n",
       "    }\n",
       "</style>\n",
       "<table border=\"1\" class=\"dataframe\">\n",
       "  <thead>\n",
       "    <tr style=\"text-align: right;\">\n",
       "      <th></th>\n",
       "      <th>num_full_album_purchases</th>\n",
       "      <th>num_invoices</th>\n",
       "      <th>percent_album_purchases</th>\n",
       "    </tr>\n",
       "  </thead>\n",
       "  <tbody>\n",
       "    <tr>\n",
       "      <th>0</th>\n",
       "      <td>114</td>\n",
       "      <td>614</td>\n",
       "      <td>0.185668</td>\n",
       "    </tr>\n",
       "  </tbody>\n",
       "</table>\n",
       "</div>"
      ],
      "text/plain": [
       "   num_full_album_purchases  num_invoices  percent_album_purchases\n",
       "0                       114           614                 0.185668"
      ]
     },
     "execution_count": 13,
     "metadata": {},
     "output_type": "execute_result"
    }
   ],
   "source": [
    "v = '''\n",
    "CREATE VIEW album_id_per_invoice_id AS\n",
    "SELECT\n",
    "    i.invoice_id,\n",
    "    il.track_id,\n",
    "    t.album_id\n",
    "FROM invoice i\n",
    "INNER JOIN invoice_line il ON i.invoice_id = il.invoice_id\n",
    "INNER JOIN track t ON il.track_id = t.track_id\n",
    "GROUP BY i.invoice_id;\n",
    "'''\n",
    "run_command('DROP VIEW IF EXISTS album_id_per_invoice_id')\n",
    "run_command(v)\n",
    "\n",
    "q = '''\n",
    "SELECT\n",
    "    SUM(album_purchase) num_full_album_purchases,\n",
    "    COUNT(DISTINCT(invoice_id)) num_invoices,\n",
    "    CAST(SUM(album_purchase) AS FLOAT) / COUNT(DISTINCT(invoice_id)) AS percent_album_purchases\n",
    "\n",
    "FROM (SELECT\n",
    "    a.invoice_id,\n",
    "    a.album_id,\n",
    "    CASE\n",
    "       WHEN\n",
    "           (\n",
    "           SELECT il.track_id\n",
    "           FROM invoice i\n",
    "           INNER JOIN invoice_line il ON i.invoice_id = il.invoice_id\n",
    "           WHERE i.invoice_id = a.invoice_id\n",
    "           \n",
    "           EXCEPT\n",
    "           \n",
    "           SELECT tr.track_id\n",
    "           FROM album al\n",
    "           INNER JOIN track tr ON tr.album_id = al.album_id\n",
    "           WHERE al.album_id = a.album_id\n",
    "           ) IS NULL\n",
    "           \n",
    "           AND\n",
    "           \n",
    "           (\n",
    "           SELECT tr.track_id\n",
    "           FROM album al\n",
    "           INNER JOIN track tr ON tr.album_id = al.album_id\n",
    "           WHERE al.album_id = a.album_id\n",
    "           \n",
    "           EXCEPT\n",
    "           \n",
    "           SELECT il.track_id\n",
    "           FROM invoice i\n",
    "           INNER JOIN invoice_line il ON i.invoice_id = il.invoice_id\n",
    "           WHERE i.invoice_id = a.invoice_id\n",
    "           \n",
    "           ) IS NULL\n",
    "       THEN 1\n",
    "    ELSE 0\n",
    "    END AS album_purchase\n",
    "FROM album_id_per_invoice_id a);\n",
    "'''\n",
    "\n",
    "run_query(q)"
   ]
  },
  {
   "cell_type": "markdown",
   "metadata": {},
   "source": [
    "The findings are clear. 19% of invoices constitute full album purchases. As such, Chinook should continue to purchase whole albums. The alternative may jeopardize 19% of sales. "
   ]
  }
 ],
 "metadata": {
  "kernelspec": {
   "display_name": "Python 3",
   "language": "python",
   "name": "python3"
  },
  "language_info": {
   "codemirror_mode": {
    "name": "ipython",
    "version": 3
   },
   "file_extension": ".py",
   "mimetype": "text/x-python",
   "name": "python",
   "nbconvert_exporter": "python",
   "pygments_lexer": "ipython3",
   "version": "3.4.3"
  }
 },
 "nbformat": 4,
 "nbformat_minor": 2
}
